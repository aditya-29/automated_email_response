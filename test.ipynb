{
 "cells": [
  {
   "cell_type": "code",
   "execution_count": 6,
   "metadata": {},
   "outputs": [],
   "source": [
    "from reply_machine import ReplyMachine, Sample\n",
    "from chat import Chat\n",
    "from summarizer import Summarizer\n",
    "\n",
    "sample = Sample()\n",
    "chat = Chat()\n",
    "\n",
    "R = ReplyMachine(\n",
    "    product_information=sample.product_info,\n",
    "    email_content=sample.email_content,\n",
    "    chat=chat,\n",
    "    lead_info=sample.lead_info\n",
    ")\n"
   ]
  },
  {
   "cell_type": "code",
   "execution_count": 7,
   "metadata": {},
   "outputs": [
    {
     "name": "stdout",
     "output_type": "stream",
     "text": [
      "--------------------  Question  --------------------\n",
      "Hi, How are you?\n",
      "ans : \n",
      "[INFO] Summarized Email Content and Product Information\n",
      "[COLCA-ERROR] The asked question is not valid :  Hi, How are you?\n",
      "Sorry, I cannot help you with that\n",
      "--------------------  Question  --------------------\n",
      "How many cameras does iphone 15 pro has?\n",
      "ans : \n",
      "The iPhone 15 Pro has a 48MP camera system.\n",
      "--------------------  Question  --------------------\n",
      "How many usb ports does the iphone 15 pro has?\n",
      "ans : \n",
      "The iPhone 15 Pro has 1 USB-C port.\n"
     ]
    }
   ],
   "source": [
    "question = \"Hi, How are you?\"\n",
    "print(\"-\"*20, \" Question \", \"-\"*20)\n",
    "print(question)\n",
    "print(\"ans : \")\n",
    "print(R.reply(question))\n",
    "\n",
    "question = \"How many cameras does iphone 15 pro has?\"\n",
    "print(\"-\"*20, \" Question \", \"-\"*20)\n",
    "print(question)\n",
    "print(\"ans : \")\n",
    "print(R.reply(question))\n",
    "\n",
    "question = \"How many usb ports does the iphone 15 pro has?\"\n",
    "print(\"-\"*20, \" Question \", \"-\"*20)\n",
    "print(question)\n",
    "print(\"ans : \")\n",
    "print(R.reply(question))\n",
    "\n"
   ]
  },
  {
   "cell_type": "code",
   "execution_count": 8,
   "metadata": {},
   "outputs": [
    {
     "name": "stdout",
     "output_type": "stream",
     "text": [
      "[('Hi, How are you?', 'Sorry, I cannot help you with that'), ('How many cameras does iphone 15 pro has?', 'The iPhone 15 Pro has a 48MP camera system.'), ('How many usb ports does the iphone 15 pro has?', 'The iPhone 15 Pro has 1 USB-C port.')]\n",
      "• Lead Information:\n",
      "\t+ Name: John Doe\n",
      "\t+ Profession: Tech Enthusiast / IT Professional\n",
      "\t+ Location: India\n",
      "\t+ Interests: Technology, Mobile Devices, Latest Gadgets\n",
      "\t+ Device Preference: Premium, high-performance devices, enjoys exploring new features, and is an early adopter of advanced tech like AI, 5G, and high-quality cameras\n",
      "\t+ Potential Need: Interested in iPhone 15 Pro for its cutting-edge A17 Pro chip, superior camera system, and robust design for tech-savvy users\n",
      "\n",
      "• Questions Asked by Lead:\n",
      "\t+ How many cameras does iPhone 15 Pro have?\n",
      "\t+ How many USB ports does iPhone 15 Pro have?\n",
      "\n",
      "• AI Generated Responses:\n",
      "\t+ The iPhone 15 Pro has a 48MP camera system.\n",
      "\t+ The iPhone 15 Pro has 1 USB-C port\n"
     ]
    }
   ],
   "source": [
    "print(R.qa_threads)\n",
    "\n",
    "print(R.quick_bytes())"
   ]
  },
  {
   "cell_type": "code",
   "execution_count": null,
   "metadata": {},
   "outputs": [],
   "source": []
  }
 ],
 "metadata": {
  "kernelspec": {
   "display_name": "Python 3",
   "language": "python",
   "name": "python3"
  },
  "language_info": {
   "codemirror_mode": {
    "name": "ipython",
    "version": 3
   },
   "file_extension": ".py",
   "mimetype": "text/x-python",
   "name": "python",
   "nbconvert_exporter": "python",
   "pygments_lexer": "ipython3",
   "version": "3.10.6"
  }
 },
 "nbformat": 4,
 "nbformat_minor": 2
}
